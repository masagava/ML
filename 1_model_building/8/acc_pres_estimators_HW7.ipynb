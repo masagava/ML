{
 "cells": [
  {
   "cell_type": "markdown",
   "metadata": {},
   "source": [
    "**Домашнее задание**\n",
    "\n",
    "Дана статистика пользователей adult.csv.\n",
    "\n",
    "Получить значения AUC для различных моделей и их параметров."
   ]
  },
  {
   "cell_type": "code",
   "execution_count": 196,
   "metadata": {},
   "outputs": [],
   "source": [
    "import matplotlib.pyplot as plt\n",
    "import numpy as np\n",
    "import pandas as pd\n",
    "\n",
    "data = pd.read_csv('adult.csv')"
   ]
  },
  {
   "cell_type": "markdown",
   "metadata": {},
   "source": [
    "**Подготовка данных**"
   ]
  },
  {
   "cell_type": "markdown",
   "metadata": {},
   "source": [
    "Удаляем столбец *fnlwgt*, т.к. он не связан с целевой переменной, и столбец *education*, т.к. столбец *educational_num* дублирует его."
   ]
  },
  {
   "cell_type": "code",
   "execution_count": 197,
   "metadata": {},
   "outputs": [],
   "source": [
    "data.drop(['fnlwgt', 'education'], axis=1, inplace=True)"
   ]
  },
  {
   "cell_type": "markdown",
   "metadata": {},
   "source": [
    "Заполняем пропуски модой"
   ]
  },
  {
   "cell_type": "code",
   "execution_count": 198,
   "metadata": {},
   "outputs": [
    {
     "data": {
      "text/html": [
       "<div>\n",
       "<style scoped>\n",
       "    .dataframe tbody tr th:only-of-type {\n",
       "        vertical-align: middle;\n",
       "    }\n",
       "\n",
       "    .dataframe tbody tr th {\n",
       "        vertical-align: top;\n",
       "    }\n",
       "\n",
       "    .dataframe thead th {\n",
       "        text-align: right;\n",
       "    }\n",
       "</style>\n",
       "<table border=\"1\" class=\"dataframe\">\n",
       "  <thead>\n",
       "    <tr style=\"text-align: right;\">\n",
       "      <th></th>\n",
       "      <th>age</th>\n",
       "      <th>workclass</th>\n",
       "      <th>educational-num</th>\n",
       "      <th>marital-status</th>\n",
       "      <th>occupation</th>\n",
       "      <th>relationship</th>\n",
       "      <th>race</th>\n",
       "      <th>gender</th>\n",
       "      <th>capital-gain</th>\n",
       "      <th>capital-loss</th>\n",
       "      <th>hours-per-week</th>\n",
       "      <th>native-country</th>\n",
       "      <th>income</th>\n",
       "    </tr>\n",
       "  </thead>\n",
       "  <tbody>\n",
       "    <tr>\n",
       "      <th>0</th>\n",
       "      <td>25</td>\n",
       "      <td>Private</td>\n",
       "      <td>7</td>\n",
       "      <td>Never-married</td>\n",
       "      <td>Machine-op-inspct</td>\n",
       "      <td>Own-child</td>\n",
       "      <td>Black</td>\n",
       "      <td>Male</td>\n",
       "      <td>0</td>\n",
       "      <td>0</td>\n",
       "      <td>40</td>\n",
       "      <td>United-States</td>\n",
       "      <td>&lt;=50K</td>\n",
       "    </tr>\n",
       "    <tr>\n",
       "      <th>1</th>\n",
       "      <td>38</td>\n",
       "      <td>Private</td>\n",
       "      <td>9</td>\n",
       "      <td>Married-civ-spouse</td>\n",
       "      <td>Farming-fishing</td>\n",
       "      <td>Husband</td>\n",
       "      <td>White</td>\n",
       "      <td>Male</td>\n",
       "      <td>0</td>\n",
       "      <td>0</td>\n",
       "      <td>50</td>\n",
       "      <td>United-States</td>\n",
       "      <td>&lt;=50K</td>\n",
       "    </tr>\n",
       "    <tr>\n",
       "      <th>2</th>\n",
       "      <td>28</td>\n",
       "      <td>Local-gov</td>\n",
       "      <td>12</td>\n",
       "      <td>Married-civ-spouse</td>\n",
       "      <td>Protective-serv</td>\n",
       "      <td>Husband</td>\n",
       "      <td>White</td>\n",
       "      <td>Male</td>\n",
       "      <td>0</td>\n",
       "      <td>0</td>\n",
       "      <td>40</td>\n",
       "      <td>United-States</td>\n",
       "      <td>&gt;50K</td>\n",
       "    </tr>\n",
       "    <tr>\n",
       "      <th>3</th>\n",
       "      <td>44</td>\n",
       "      <td>Private</td>\n",
       "      <td>10</td>\n",
       "      <td>Married-civ-spouse</td>\n",
       "      <td>Machine-op-inspct</td>\n",
       "      <td>Husband</td>\n",
       "      <td>Black</td>\n",
       "      <td>Male</td>\n",
       "      <td>7688</td>\n",
       "      <td>0</td>\n",
       "      <td>40</td>\n",
       "      <td>United-States</td>\n",
       "      <td>&gt;50K</td>\n",
       "    </tr>\n",
       "    <tr>\n",
       "      <th>4</th>\n",
       "      <td>18</td>\n",
       "      <td>Private</td>\n",
       "      <td>10</td>\n",
       "      <td>Never-married</td>\n",
       "      <td>Prof-specialty</td>\n",
       "      <td>Own-child</td>\n",
       "      <td>White</td>\n",
       "      <td>Female</td>\n",
       "      <td>0</td>\n",
       "      <td>0</td>\n",
       "      <td>30</td>\n",
       "      <td>United-States</td>\n",
       "      <td>&lt;=50K</td>\n",
       "    </tr>\n",
       "  </tbody>\n",
       "</table>\n",
       "</div>"
      ],
      "text/plain": [
       "   age  workclass  educational-num      marital-status         occupation  \\\n",
       "0   25    Private                7       Never-married  Machine-op-inspct   \n",
       "1   38    Private                9  Married-civ-spouse    Farming-fishing   \n",
       "2   28  Local-gov               12  Married-civ-spouse    Protective-serv   \n",
       "3   44    Private               10  Married-civ-spouse  Machine-op-inspct   \n",
       "4   18    Private               10       Never-married     Prof-specialty   \n",
       "\n",
       "  relationship   race  gender  capital-gain  capital-loss  hours-per-week  \\\n",
       "0    Own-child  Black    Male             0             0              40   \n",
       "1      Husband  White    Male             0             0              50   \n",
       "2      Husband  White    Male             0             0              40   \n",
       "3      Husband  Black    Male          7688             0              40   \n",
       "4    Own-child  White  Female             0             0              30   \n",
       "\n",
       "  native-country income  \n",
       "0  United-States  <=50K  \n",
       "1  United-States  <=50K  \n",
       "2  United-States   >50K  \n",
       "3  United-States   >50K  \n",
       "4  United-States  <=50K  "
      ]
     },
     "execution_count": 198,
     "metadata": {},
     "output_type": "execute_result"
    }
   ],
   "source": [
    "data = data.replace('?', np.NaN)\n",
    "\n",
    "fill_mode = lambda col: col.fillna(col.mode()[0])\n",
    "data = data.apply(fill_mode, axis=0)\n",
    "\n",
    "data.head()"
   ]
  },
  {
   "cell_type": "code",
   "execution_count": 199,
   "metadata": {},
   "outputs": [],
   "source": [
    "num_cols = list(data.select_dtypes(include=['int64', 'float64']).columns)\n",
    "obj_cols = list(data.select_dtypes(include=['object']).columns)\n",
    "obj_cols.remove('income')"
   ]
  },
  {
   "cell_type": "markdown",
   "metadata": {},
   "source": [
    "**Построение модели**"
   ]
  },
  {
   "cell_type": "code",
   "execution_count": 200,
   "metadata": {},
   "outputs": [],
   "source": [
    "X = pd.concat([data[num_cols], pd.get_dummies(data[obj_cols])], axis=1)\n",
    "y = data['income'].apply(lambda income: 1 if income == '>50K' else 0)"
   ]
  },
  {
   "cell_type": "code",
   "execution_count": 211,
   "metadata": {},
   "outputs": [
    {
     "name": "stdout",
     "output_type": "stream",
     "text": [
      "building logreg for iter = 100\n",
      "ROC AUC score is: 0.6778\n",
      "\n",
      "building logreg for iter = 200\n",
      "ROC AUC score is: 0.7557\n",
      "\n",
      "building logreg for iter = 300\n",
      "ROC AUC score is: 0.7564\n",
      "\n",
      "building logreg for iter = 400\n",
      "ROC AUC score is: 0.7599\n",
      "\n",
      "building logreg for iter = 500\n",
      "ROC AUC score is: 0.7577\n",
      "\n",
      "building logreg for iter = 600\n",
      "ROC AUC score is: 0.7600\n",
      "\n",
      "building logreg for iter = 700\n",
      "ROC AUC score is: 0.7622\n",
      "\n",
      "building logreg for iter = 800\n",
      "ROC AUC score is: 0.7616\n",
      "\n",
      "building logreg for iter = 900\n",
      "ROC AUC score is: 0.7604\n",
      "\n",
      "building logreg for iter = 1000\n",
      "ROC AUC score is: 0.7623\n",
      "\n",
      "building logreg for iter = 1100\n",
      "ROC AUC score is: 0.7613\n",
      "\n",
      "building logreg for iter = 1200\n",
      "ROC AUC score is: 0.7588\n",
      "\n",
      "building logreg for iter = 1300\n",
      "ROC AUC score is: 0.7583\n",
      "\n",
      "building logreg for iter = 1400\n",
      "ROC AUC score is: 0.7575\n",
      "\n",
      "building logreg for iter = 1500\n",
      "ROC AUC score is: 0.7601\n",
      "\n",
      "building logreg for iter = 1600\n",
      "ROC AUC score is: 0.7599\n",
      "\n",
      "building logreg for iter = 1700\n",
      "ROC AUC score is: 0.7623\n",
      "\n",
      "building logreg for iter = 1800\n",
      "ROC AUC score is: 0.7616\n",
      "\n",
      "building logreg for iter = 1900\n",
      "ROC AUC score is: 0.7614\n",
      "\n",
      "building logreg for iter = 2000\n",
      "ROC AUC score is: 0.7614\n",
      "\n"
     ]
    },
    {
     "data": {
      "image/png": "[encoded data removed]",
      "text/plain": [
       "<Figure size 432x288 with 1 Axes>"
      ]
     },
     "metadata": {
      "needs_background": "light"
     },
     "output_type": "display_data"
    }
   ],
   "source": [
    "from sklearn.linear_model import LogisticRegression\n",
    "from sklearn.model_selection import train_test_split\n",
    "from sklearn.metrics import roc_auc_score, roc_curve, auc\n",
    "\n",
    "import warnings\n",
    "\n",
    "warnings.filterwarnings('ignore')\n",
    "\n",
    "\n",
    "def train_model(algo, *args):\n",
    "    X_train, X_test, y_train, y_test = args\n",
    "    \n",
    "    model = algo\n",
    "    model.fit(X_train, y_train)\n",
    "    \n",
    "    y_pred = model.predict(X_test)\n",
    "    \n",
    "    return roc_auc_score(y_test, y_pred)\n",
    "\n",
    "\n",
    "X_train, X_test, y_train, y_test = train_test_split(X, y, test_size=0.2)\n",
    "\n",
    "scores = dict()\n",
    "for mi in range(100, 2001, 100):\n",
    "    print(f'building logreg for iter = {mi}')\n",
    "    score = train_model(LogisticRegression(max_iter=mi), X_train, X_test, y_train, y_test)\n",
    "    print(f'ROC AUC score is: {score:.4f}', end='\\n\\n')\n",
    "    scores[mi] = score\n",
    "\n",
    "# fpr, tpr, threshold = roc_curve(y_test, y_pred)\n",
    "# auc_ = auc(fpr, tpr)\n",
    "\n",
    "# plt.plot(fpr, tpr)\n",
    "plt.plot(list(scores.keys()), list(scores.values()))\n",
    "plt.show()\n",
    "\n",
    "# print(f'ROC AUC score: {auc_score}\\nAUC: {auc_}')"
   ]
  },
  {
   "cell_type": "code",
   "execution_count": 212,
   "metadata": {},
   "outputs": [
    {
     "name": "stdout",
     "output_type": "stream",
     "text": [
      "Best AUC score is 0.7623 on iterations_num=1000\n"
     ]
    }
   ],
   "source": [
    "import operator\n",
    "\n",
    "best_iter, best_score = max(scores.items(), key=operator.itemgetter(1))\n",
    "\n",
    "print(f'Best AUC score is {best_score:.4f} on iterations_num={best_iter}')"
   ]
  },
  {
   "cell_type": "code",
   "execution_count": 230,
   "metadata": {},
   "outputs": [
    {
     "data": {
      "image/png": "[encoded data removed]",
      "text/plain": [
       "<Figure size 432x288 with 1 Axes>"
      ]
     },
     "metadata": {
      "needs_background": "light"
     },
     "output_type": "display_data"
    }
   ],
   "source": [
    "model1 = LogisticRegression(max_iter=best_iter)\n",
    "model1.fit(X_train, y_train)\n",
    "\n",
    "y_pred1 = model1.predict(X_test)\n",
    "y_pred_proba1 = model1.predict_proba(X_test)\n",
    "y_test1 = y_test\n",
    "\n",
    "fpr, tpr, _ = roc_curve(y_test, y_pred1)\n",
    "\n",
    "plt.plot(fpr, tpr)\n",
    "plt.show()"
   ]
  },
  {
   "cell_type": "markdown",
   "metadata": {},
   "source": [
    "**Построение модели, состоящей из numerical-признаков**"
   ]
  },
  {
   "cell_type": "code",
   "execution_count": 231,
   "metadata": {},
   "outputs": [
    {
     "name": "stdout",
     "output_type": "stream",
     "text": [
      "AUC score for model2 is: 0.6662\n"
     ]
    },
    {
     "data": {
      "image/png": "[encoded data removed]",
      "text/plain": [
       "<Figure size 432x288 with 1 Axes>"
      ]
     },
     "metadata": {
      "needs_background": "light"
     },
     "output_type": "display_data"
    }
   ],
   "source": [
    "X_num = data[num_cols]\n",
    "\n",
    "X_train, X_test, y_train, y_test = train_test_split(X_num, y, test_size=0.2)\n",
    "\n",
    "model2 = LogisticRegression(max_iter=100)\n",
    "model2.fit(X_train, y_train)\n",
    "\n",
    "y_pred2 = model2.predict(X_test)\n",
    "y_pred_proba2 = model2.predict_proba(X_test)\n",
    "y_test2 = y_test\n",
    "\n",
    "print(f'AUC score for model2 is: {roc_auc_score(y_test, y_pred2):.4f}')\n",
    "\n",
    "fpr, tpr, _ = roc_curve(y_test, y_pred2)\n",
    "\n",
    "plt.plot(fpr, tpr)\n",
    "plt.show()"
   ]
  },
  {
   "cell_type": "markdown",
   "metadata": {},
   "source": [
    "**Построение модели, состоящей из object-признаков**"
   ]
  },
  {
   "cell_type": "code",
   "execution_count": 232,
   "metadata": {},
   "outputs": [
    {
     "name": "stdout",
     "output_type": "stream",
     "text": [
      "AUC score for model3 is: 0.7084\n"
     ]
    },
    {
     "data": {
      "image/png": "[encoded data removed]",
      "text/plain": [
       "<Figure size 432x288 with 1 Axes>"
      ]
     },
     "metadata": {
      "needs_background": "light"
     },
     "output_type": "display_data"
    }
   ],
   "source": [
    "X_obj = pd.get_dummies(data[obj_cols])\n",
    "\n",
    "X_train, X_test, y_train, y_test = train_test_split(X_obj, y, test_size=0.2)\n",
    "\n",
    "model3 = LogisticRegression(max_iter=200)\n",
    "model3.fit(X_train, y_train)\n",
    "\n",
    "y_pred3 = model3.predict(X_test)\n",
    "y_pred_proba3 = model3.predict_proba(X_test)\n",
    "\n",
    "print(f'AUC score for model3 is: {roc_auc_score(y_test, y_pred3):.4f}')\n",
    "\n",
    "fpr, tpr, _ = roc_curve(y_test, y_pred3)\n",
    "\n",
    "plt.plot(fpr, tpr)\n",
    "plt.show()"
   ]
  },
  {
   "cell_type": "markdown",
   "metadata": {},
   "source": [
    "**Сравнение трёх моделей**"
   ]
  },
  {
   "cell_type": "code",
   "execution_count": 233,
   "metadata": {},
   "outputs": [
    {
     "data": {
      "image/png": "[encoded data removed]",
      "text/plain": [
       "<Figure size 432x288 with 1 Axes>"
      ]
     },
     "metadata": {
      "needs_background": "light"
     },
     "output_type": "display_data"
    }
   ],
   "source": [
    "fpr1, tpr1, _ = roc_curve(y_test1, y_pred_proba1[:, 1])\n",
    "fpr2, tpr2, _ = roc_curve(y_test2, y_pred_proba2[:, 1])\n",
    "fpr3, tpr3, _ = roc_curve(y_test, y_pred_proba3[:, 1])\n",
    "\n",
    "plt.plot(fpr1, tpr1, label='all columns')\n",
    "plt.plot(fpr2, tpr2, label='numerical columns')\n",
    "plt.plot(fpr3, tpr3, label='object columns')\n",
    "\n",
    "plt.xlabel('False Positive Rate')\n",
    "plt.ylabel('True Positive Rate')\n",
    "\n",
    "plt.legend()\n",
    "plt.show()"
   ]
  },
  {
   "cell_type": "code",
   "execution_count": null,
   "metadata": {},
   "outputs": [],
   "source": []
  }
 ],
 "metadata": {
  "kernelspec": {
   "display_name": "Python 3",
   "language": "python",
   "name": "python3"
  },
  "language_info": {
   "codemirror_mode": {
    "name": "ipython",
    "version": 3
   },
   "file_extension": ".py",
   "mimetype": "text/x-python",
   "name": "python",
   "nbconvert_exporter": "python",
   "pygments_lexer": "ipython3",
   "version": "3.7.6"
  }
 },
 "nbformat": 4,
 "nbformat_minor": 4
}
