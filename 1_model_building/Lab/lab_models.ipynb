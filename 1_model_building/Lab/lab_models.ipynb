{
 "cells": [
  {
   "cell_type": "markdown",
   "metadata": {},
   "source": [
    "## Лабораторная работа по модулю \"*Построение моделей*\"\n",
    "\n",
    "Необходимо решить задачу мультиклассовой классификации для датасета флагов различных стран \n",
    "(https://archive.ics.uci.edu/ml/datasets/Flags)\n",
    "\n",
    "1. Загрузить данные из папки Data Folder\n",
    "2. Провести описательный анализ предложенных данных\n",
    "3. Предложить стратегию по работе с категориальными переменными \n",
    "4. Провести углубленный анализ данных (корреляции переменных, визуализация взаимосвязей)\n",
    "5. Следует ли увеличивать/уменьшать размерность признакового множества (какой подход выдает лучшие результаты)\n",
    "6. Следует ли балансировать классы путем oversampling/undersampling? (улучшает ли подход результаты)\n",
    "7. Сделать кросс-валидацию данных с использованием подхода K-fold (n_folds=3)\n",
    "8. Решить задачу мультиклассовой классификации и предсказать религию страны (religion) по деталям ее флага \n",
    "9. Рассчитать Feature Importances для переменных модели\n",
    "10. Проверить качество классификации с использованием следующих метрик: Accuracy, F1-Score, Precision, Recall\n",
    "11. Построить Confusion Matrix для ваших результатов\n",
    "12. Загрузить ipython notebook с результатами работы на github репозиторий"
   ]
  },
  {
   "cell_type": "code",
   "execution_count": 329,
   "metadata": {},
   "outputs": [],
   "source": [
    "from sklearn.model_selection import train_test_split, cross_val_score, KFold\n",
    "from sklearn.tree import DecisionTreeClassifier\n",
    "from sklearn.ensemble import RandomForestClassifier\n",
    "from sklearn.metrics import auc, roc_curve, roc_auc_score\n",
    "from sklearn.metrics import classification_report, f1_score, precision_score\n",
    "from sklearn.metrics import recall_score, accuracy_score, confusion_matrix, plot_confusion_matrix\n",
    "from jupyterthemes import jtplot\n",
    "from pathlib import Path\n",
    "from imblearn.over_sampling import SMOTE\n",
    "\n",
    "import warnings\n",
    "\n",
    "warnings.filterwarnings('ignore')\n",
    "\n",
    "import matplotlib.pyplot as plt\n",
    "import numpy as np\n",
    "import pandas as pd\n",
    "import re\n",
    "%matplotlib inline\n",
    "jtplot.style()"
   ]
  },
  {
   "cell_type": "markdown",
   "metadata": {},
   "source": [
    "**Подготовка данных**"
   ]
  },
  {
   "cell_type": "code",
   "execution_count": 128,
   "metadata": {},
   "outputs": [],
   "source": [
    "def parse(filename):\n",
    "    names = list()\n",
    "    for line in Path(filename).read_text().split('\\n'):\n",
    "        tpl = re.search(r'[0-9]{1,3}\\. [a-z]*?[\\t\\x20]', line)\n",
    "        if tpl:\n",
    "            names.append(tpl.group().strip().split()[1])\n",
    "    return names"
   ]
  },
  {
   "cell_type": "code",
   "execution_count": 129,
   "metadata": {},
   "outputs": [
    {
     "data": {
      "text/html": [
       "<div>\n",
       "<style scoped>\n",
       "    .dataframe tbody tr th:only-of-type {\n",
       "        vertical-align: middle;\n",
       "    }\n",
       "\n",
       "    .dataframe tbody tr th {\n",
       "        vertical-align: top;\n",
       "    }\n",
       "\n",
       "    .dataframe thead th {\n",
       "        text-align: right;\n",
       "    }\n",
       "</style>\n",
       "<table border=\"1\" class=\"dataframe\">\n",
       "  <thead>\n",
       "    <tr style=\"text-align: right;\">\n",
       "      <th></th>\n",
       "      <th>name</th>\n",
       "      <th>landmass</th>\n",
       "      <th>zone</th>\n",
       "      <th>area</th>\n",
       "      <th>population</th>\n",
       "      <th>language</th>\n",
       "      <th>religion</th>\n",
       "      <th>bars</th>\n",
       "      <th>stripes</th>\n",
       "      <th>colours</th>\n",
       "      <th>...</th>\n",
       "      <th>saltires</th>\n",
       "      <th>quarters</th>\n",
       "      <th>sunstars</th>\n",
       "      <th>crescent</th>\n",
       "      <th>triangle</th>\n",
       "      <th>icon</th>\n",
       "      <th>animate</th>\n",
       "      <th>text</th>\n",
       "      <th>topleft</th>\n",
       "      <th>botright</th>\n",
       "    </tr>\n",
       "  </thead>\n",
       "  <tbody>\n",
       "    <tr>\n",
       "      <th>0</th>\n",
       "      <td>Afghanistan</td>\n",
       "      <td>5</td>\n",
       "      <td>1</td>\n",
       "      <td>648</td>\n",
       "      <td>16</td>\n",
       "      <td>10</td>\n",
       "      <td>2</td>\n",
       "      <td>0</td>\n",
       "      <td>3</td>\n",
       "      <td>5</td>\n",
       "      <td>...</td>\n",
       "      <td>0</td>\n",
       "      <td>0</td>\n",
       "      <td>1</td>\n",
       "      <td>0</td>\n",
       "      <td>0</td>\n",
       "      <td>1</td>\n",
       "      <td>0</td>\n",
       "      <td>0</td>\n",
       "      <td>black</td>\n",
       "      <td>green</td>\n",
       "    </tr>\n",
       "    <tr>\n",
       "      <th>1</th>\n",
       "      <td>Albania</td>\n",
       "      <td>3</td>\n",
       "      <td>1</td>\n",
       "      <td>29</td>\n",
       "      <td>3</td>\n",
       "      <td>6</td>\n",
       "      <td>6</td>\n",
       "      <td>0</td>\n",
       "      <td>0</td>\n",
       "      <td>3</td>\n",
       "      <td>...</td>\n",
       "      <td>0</td>\n",
       "      <td>0</td>\n",
       "      <td>1</td>\n",
       "      <td>0</td>\n",
       "      <td>0</td>\n",
       "      <td>0</td>\n",
       "      <td>1</td>\n",
       "      <td>0</td>\n",
       "      <td>red</td>\n",
       "      <td>red</td>\n",
       "    </tr>\n",
       "    <tr>\n",
       "      <th>2</th>\n",
       "      <td>Algeria</td>\n",
       "      <td>4</td>\n",
       "      <td>1</td>\n",
       "      <td>2388</td>\n",
       "      <td>20</td>\n",
       "      <td>8</td>\n",
       "      <td>2</td>\n",
       "      <td>2</td>\n",
       "      <td>0</td>\n",
       "      <td>3</td>\n",
       "      <td>...</td>\n",
       "      <td>0</td>\n",
       "      <td>0</td>\n",
       "      <td>1</td>\n",
       "      <td>1</td>\n",
       "      <td>0</td>\n",
       "      <td>0</td>\n",
       "      <td>0</td>\n",
       "      <td>0</td>\n",
       "      <td>green</td>\n",
       "      <td>white</td>\n",
       "    </tr>\n",
       "    <tr>\n",
       "      <th>3</th>\n",
       "      <td>American-Samoa</td>\n",
       "      <td>6</td>\n",
       "      <td>3</td>\n",
       "      <td>0</td>\n",
       "      <td>0</td>\n",
       "      <td>1</td>\n",
       "      <td>1</td>\n",
       "      <td>0</td>\n",
       "      <td>0</td>\n",
       "      <td>5</td>\n",
       "      <td>...</td>\n",
       "      <td>0</td>\n",
       "      <td>0</td>\n",
       "      <td>0</td>\n",
       "      <td>0</td>\n",
       "      <td>1</td>\n",
       "      <td>1</td>\n",
       "      <td>1</td>\n",
       "      <td>0</td>\n",
       "      <td>blue</td>\n",
       "      <td>red</td>\n",
       "    </tr>\n",
       "  </tbody>\n",
       "</table>\n",
       "<p>4 rows × 30 columns</p>\n",
       "</div>"
      ],
      "text/plain": [
       "             name  landmass  zone  area  population  language  religion  bars  \\\n",
       "0     Afghanistan         5     1   648          16        10         2     0   \n",
       "1         Albania         3     1    29           3         6         6     0   \n",
       "2         Algeria         4     1  2388          20         8         2     2   \n",
       "3  American-Samoa         6     3     0           0         1         1     0   \n",
       "\n",
       "   stripes  colours  ...  saltires  quarters  sunstars  crescent  triangle  \\\n",
       "0        3        5  ...         0         0         1         0         0   \n",
       "1        0        3  ...         0         0         1         0         0   \n",
       "2        0        3  ...         0         0         1         1         0   \n",
       "3        0        5  ...         0         0         0         0         1   \n",
       "\n",
       "   icon  animate text  topleft  botright  \n",
       "0     1        0    0    black     green  \n",
       "1     0        1    0      red       red  \n",
       "2     0        0    0    green     white  \n",
       "3     1        1    0     blue       red  \n",
       "\n",
       "[4 rows x 30 columns]"
      ]
     },
     "execution_count": 129,
     "metadata": {},
     "output_type": "execute_result"
    }
   ],
   "source": [
    "names = parse('flag.names')\n",
    "target_religions = ['Catholic', 'Other Christian', 'Muslim', 'Buddhist', 'Hindu', 'Ethnic', 'Marxist', 'Others']\n",
    "\n",
    "data = pd.read_csv('flag.data', header=None, names=names)\n",
    "data.head(4)"
   ]
  },
  {
   "cell_type": "markdown",
   "metadata": {},
   "source": [
    "Относительно признакового множества: увеличивать точно не стоит, потому что после приведения категорийных признаков в удобочитаемый машинный формат (с помощью *pd.get_dummies(...)* или *OneHotEncoder*), количество признаков синтетичски разрастается до ~200, в результате чего те же feature importances не несут никакой информативности. В качестве примера ниже рассмотрим случай, когда остался единственный категорийный признак *name*, а также удалены некоторые признаки начального датасета (цавета, наличие горизонтальных и вертикальных полос и т.д.) "
   ]
  },
  {
   "cell_type": "code",
   "execution_count": 135,
   "metadata": {},
   "outputs": [
    {
     "name": "stdout",
     "output_type": "stream",
     "text": [
      "--------------------\n",
      "feature importances for split #0\n",
      "--------------------\n",
      "Afghanistan: 0.0000\n",
      "Albania: 0.0000\n",
      "Algeria: 0.0000\n",
      "American-Samoa: 0.0000\n",
      "--------------------\n",
      "feature importances for split #1\n",
      "--------------------\n",
      "landmass: 0.4000\n",
      "area: 0.2000\n",
      "population: 0.2000\n",
      "language: 0.2000\n",
      "--------------------\n",
      "feature importances for split #2\n",
      "--------------------\n",
      "population: 0.5000\n",
      "language: 0.5000\n",
      "Afghanistan: 0.0000\n",
      "Albania: 0.0000\n"
     ]
    }
   ],
   "source": [
    "redundunt_features = ['zone', 'bars', 'stripes', 'colours', 'red', 'green', 'blue', 'gold', 'white', 'black', 'orange', 'mainhue', 'circles', 'crosses', 'saltires', 'quarters', 'sunstars', 'triangle', 'icon', 'animate', 'topleft', 'botright']\n",
    "\n",
    "X = data.drop(columns=redundunt_features)\n",
    "X.drop(columns=['religion', 'name'], inplace=True)\n",
    "X = pd.concat([pd.get_dummies(data['name']), X], axis=1)\n",
    "y = data['religion']\n",
    "\n",
    "rf_cl = RandomForestClassifier(n_estimators=10, max_depth=7, min_samples_leaf=20, n_jobs=-1)\n",
    "kf = KFold(n_splits=3)\n",
    "\n",
    "for split, (train_index, test_index) in enumerate(kf.split(X)):\n",
    "    X_train, X_test, y_train, y_test = X.iloc[train_index], X.iloc[test_index], y.iloc[train_index], y.iloc[test_index]\n",
    "    rf_cl.fit(X_train, y_train)\n",
    "    y_predict = rf_cl.predict(X_test)\n",
    "    \n",
    "    # выводим первые 4 feature importances\n",
    "    print('-'*20 + f'\\nfeature importances for split #{split}\\n' + '-'*20)\n",
    "    for feature, imp in sorted(zip(X.columns, rf_cl.feature_importances_), key=lambda im: im[1], reverse=True)[:4]:\n",
    "        print(f'{feature}: {imp:.4f}')"
   ]
  },
  {
   "cell_type": "markdown",
   "metadata": {},
   "source": [
    "Поэтому будем исследовать два признаковых множества:\n",
    "1. удалены признаки *name*, цвета, т.к. признак *colours* говорит о факте наличия определенного количества цветов на флаге, и *topleft* + *botright*\n",
    "2. присутствуют все признаки, за исключением *name* и географического квадранта (*zone*), потому что для второго уже присутствует признак принадлежности к материку\n",
    "\n",
    "Категорийные признаки закодируем с использованием *pd.get_dummies(...)*."
   ]
  },
  {
   "cell_type": "code",
   "execution_count": 349,
   "metadata": {},
   "outputs": [],
   "source": [
    "redundunt_features_upd = ['name', 'red', 'green', 'blue', 'gold', 'white', 'black', 'orange', 'topleft', 'botright']\n",
    "\n",
    "X_reduced_1 = data.drop(columns=redundunt_features_upd)\n",
    "X_reduced_1.drop(columns=['religion'], inplace=True)\n",
    "num_cols = list(X_reduced_1.select_dtypes(include=['int64', 'float64']).columns)\n",
    "obj_cols = list(X_reduced_1.select_dtypes(include=['object']).columns)\n",
    "X_reduced_1 = pd.concat([pd.get_dummies(X_reduced_1[obj_cols]), X_reduced_1[num_cols]], axis=1)\n",
    "\n",
    "X_reduced_2 = data.drop(columns=['name', 'zone', 'religion'])\n",
    "num_cols = list(X_reduced_2.select_dtypes(include=['int64', 'float64']).columns)\n",
    "obj_cols = list(X_reduced_2.select_dtypes(include=['object']).columns)\n",
    "X_reduced_2 = pd.concat([pd.get_dummies(X_reduced_2[obj_cols]), X_reduced_2[num_cols]], axis=1)\n",
    "\n",
    "y = data['religion']"
   ]
  },
  {
   "cell_type": "markdown",
   "metadata": {},
   "source": [
    "**Построение модели**"
   ]
  },
  {
   "cell_type": "markdown",
   "metadata": {},
   "source": [
    "Относительно over/undersampling. Учитывая, что у нас сэмплов в принципе не так много, логичнее воспользоваться oversampling'ом, т.е. добавлением сэмплов миноритарного(-ых) класса(-ов). В самом простом случае можно попробовать продублировать имеющиеся семплы случайным образом. В нашем случае это семплы для классов 4 и 7, т.к. их всего по 4 штуки. Можно попробовать расширить количество сэмплов для каждого из них хотя бы до ближайшего класса, т.е. до 8 (3 класс). \n",
    "\n",
    "Но сначала нужно поделить данные на обучаемую и тестовую выборки, а уже потом смотреть сколько сэмплов осталось в обучаемой выборке (тестовую не трогаем, т.к. это может сказаться на результатах предсказаний), и решать, стоит ли вообще пользоваться оверсемплингом, или оставить все как есть, потому что наличие 1-2 сэмплов миноритарных классов вряд ли сильно повлияет на конечный результат.\n",
    "\n",
    "Вообще можно воспользоваться, например, техникой SMOTE (Synthetic Minority Oversampling Technique)."
   ]
  },
  {
   "cell_type": "code",
   "execution_count": 122,
   "metadata": {},
   "outputs": [
    {
     "data": {
      "text/plain": [
       "1    60\n",
       "0    40\n",
       "2    36\n",
       "5    27\n",
       "6    15\n",
       "3     8\n",
       "7     4\n",
       "4     4\n",
       "Name: religion, dtype: int64"
      ]
     },
     "execution_count": 122,
     "metadata": {},
     "output_type": "execute_result"
    }
   ],
   "source": [
    "y.value_counts()"
   ]
  },
  {
   "cell_type": "code",
   "execution_count": 276,
   "metadata": {},
   "outputs": [
    {
     "name": "stdout",
     "output_type": "stream",
     "text": [
      "[[ 0  1  2  3  4  5  6  7]\n",
      " [33 49 25  6  3 22 14  3]]\n"
     ]
    }
   ],
   "source": [
    "X_train_1, X_test_1, y_train, y_test = train_test_split(X_reduced_1, y, test_size=0.2)\n",
    "\n",
    "unique, counts = np.unique(y_train, return_counts=True)\n",
    "print(np.asarray((unique, counts)))"
   ]
  },
  {
   "cell_type": "markdown",
   "metadata": {},
   "source": [
    "Видим, что количество сэмплов для двух миноритарных классов уменьшилось, поэтому проведем оверсемплинг, используя библиотеку imblearn\n",
    "\n",
    "**!NB** SMOTE ругается, когда количество соседей больше количества семплов для миноритарных классов, поэтому выбран параметр k_neighbors=2"
   ]
  },
  {
   "cell_type": "code",
   "execution_count": 277,
   "metadata": {},
   "outputs": [
    {
     "name": "stdout",
     "output_type": "stream",
     "text": [
      "[[ 0  1  2  3  4  5  6  7]\n",
      " [38 38 38 38 38 38 38 38]]\n"
     ]
    }
   ],
   "source": [
    "X_train_sm, X_test_sm, y_train_sm, y_test_sm = train_test_split(X_train_1, y_train, test_size=0.2)\n",
    "\n",
    "sm = SMOTE(k_neighbors=2)\n",
    "X_train_upd, y_train_upd = sm.fit_resample(X_train_sm, y_train_sm)\n",
    "\n",
    "unique, counts = np.unique(y_train_upd, return_counts=True)\n",
    "print(np.asarray((unique, counts)))"
   ]
  },
  {
   "cell_type": "markdown",
   "metadata": {},
   "source": [
    "**Сравнение оверфиченных данных и исходных**"
   ]
  },
  {
   "cell_type": "code",
   "execution_count": 301,
   "metadata": {},
   "outputs": [
    {
     "name": "stdout",
     "output_type": "stream",
     "text": [
      "Oversampled results:\n",
      "Accuracy: 0.6129032258064516\n",
      "Recall score: 0.4920454545454545\n",
      "\n",
      "Test results:\n",
      "Accuracy: 0.7692307692307693\n",
      "Recall score: 0.5616883116883117\n"
     ]
    }
   ],
   "source": [
    "rf_cl_1 = RandomForestClassifier(n_estimators=15, max_depth=7, n_jobs=-1)\n",
    "rf_cl_1.fit(X_train_upd, y_train_upd)\n",
    "\n",
    "rf_cl_2 = RandomForestClassifier(n_estimators=15, max_depth=7, n_jobs=-1)\n",
    "rf_cl_2.fit(X_train_1, y_train)\n",
    "\n",
    "print('Oversampled results:')\n",
    "print(f'Accuracy: {rf_cl_1.score(X_test_sm, y_test_sm)}')\n",
    "print(f'Recall score: {recall_score(y_test_sm, rf_cl_1.predict(X_test_sm), average=\"macro\")}')\n",
    "\n",
    "print('\\nTest results:')\n",
    "print(f'Accuracy: {rf_cl_2.score(X_test_1, y_test)}')\n",
    "print(f'Recall score: {recall_score(y_test, rf_cl_2.predict(X_test_1), average=\"macro\")}')"
   ]
  },
  {
   "cell_type": "markdown",
   "metadata": {},
   "source": [
    "Видим, что результаты точности и recall для тестовой выборки несколько лучше, чем для oversampled (на самом деле все зависит от запуска и других параметров, задаваемых для RandomForest). Поэтому далее продолжим анализ на исходных данных."
   ]
  },
  {
   "cell_type": "markdown",
   "metadata": {},
   "source": [
    "**Кросс-валидация и feature importances**"
   ]
  },
  {
   "cell_type": "markdown",
   "metadata": {},
   "source": [
    "Осуществим кросс-валидацию для обоих признаковых подмножеств и выведем важность признаков"
   ]
  },
  {
   "cell_type": "code",
   "execution_count": 302,
   "metadata": {},
   "outputs": [],
   "source": [
    "def rf_cv(X, y):\n",
    "    rf = RandomForestClassifier(n_estimators=10, max_depth=7, min_samples_leaf=20, n_jobs=-1)\n",
    "    kf = KFold(n_splits=3)\n",
    "    \n",
    "    acc, rec = list(), list()\n",
    "    for split, (train_i, test_i) in enumerate(kf.split(X)):\n",
    "        X_train, X_test, y_train, y_test = X.iloc[train_index], X.iloc[test_index], y.iloc[train_index], y.iloc[test_index]\n",
    "        rf.fit(X_train, y_train)\n",
    "        y_predict = rf.predict(X_test)\n",
    "        \n",
    "        # выводим первые 4 feature importances\n",
    "        print('-'*20 + f'\\nfeature importances for split #{split}\\n' + '-'*20)\n",
    "        for feature, imp in sorted(zip(X.columns, rf.feature_importances_), key=lambda im: im[1], reverse=True)[:4]:\n",
    "            print(f'{feature}: {imp:.4f}')\n",
    "\n",
    "    return"
   ]
  },
  {
   "cell_type": "markdown",
   "metadata": {},
   "source": [
    "***Первое признаковое подмножество***"
   ]
  },
  {
   "cell_type": "code",
   "execution_count": 304,
   "metadata": {},
   "outputs": [
    {
     "name": "stdout",
     "output_type": "stream",
     "text": [
      "--------------------\n",
      "feature importances for split #0\n",
      "--------------------\n",
      "population: 0.3223\n",
      "language: 0.2776\n",
      "area: 0.1657\n",
      "zone: 0.1590\n",
      "--------------------\n",
      "feature importances for split #1\n",
      "--------------------\n",
      "landmass: 0.4099\n",
      "language: 0.1808\n",
      "zone: 0.1287\n",
      "area: 0.1266\n",
      "--------------------\n",
      "feature importances for split #2\n",
      "--------------------\n",
      "landmass: 0.3064\n",
      "population: 0.2523\n",
      "area: 0.1885\n",
      "language: 0.1191\n"
     ]
    }
   ],
   "source": [
    "rf_cv(X_reduced_1, y)"
   ]
  },
  {
   "cell_type": "markdown",
   "metadata": {},
   "source": [
    "Видим, что наиболее важными для определения религии являются признаки материковой принадлежности, населения, языка, и площади."
   ]
  },
  {
   "cell_type": "markdown",
   "metadata": {},
   "source": [
    "***Второе признаковое подмножество***"
   ]
  },
  {
   "cell_type": "code",
   "execution_count": 306,
   "metadata": {},
   "outputs": [
    {
     "name": "stdout",
     "output_type": "stream",
     "text": [
      "--------------------\n",
      "feature importances for split #0\n",
      "--------------------\n",
      "population: 0.2690\n",
      "green: 0.1965\n",
      "language: 0.1516\n",
      "landmass: 0.1164\n",
      "--------------------\n",
      "feature importances for split #1\n",
      "--------------------\n",
      "landmass: 0.3710\n",
      "area: 0.1000\n",
      "population: 0.1000\n",
      "stripes: 0.1000\n",
      "--------------------\n",
      "feature importances for split #2\n",
      "--------------------\n",
      "population: 0.1525\n",
      "botright_red: 0.1332\n",
      "landmass: 0.1224\n",
      "botright_blue: 0.1000\n"
     ]
    }
   ],
   "source": [
    "rf_cv(X_reduced_2, y)"
   ]
  },
  {
   "cell_type": "markdown",
   "metadata": {},
   "source": [
    "Видим, что остаются такие признаки, как население, площадь и материковая принадлежность, но также встречаются и признаки цветов или их расположения на флаге."
   ]
  },
  {
   "cell_type": "markdown",
   "metadata": {},
   "source": [
    "**Оценка точности и построение confusion matrix**"
   ]
  },
  {
   "cell_type": "markdown",
   "metadata": {},
   "source": [
    "Еще раз разделим выборки, зададим классификатор и посчитаем метрики"
   ]
  },
  {
   "cell_type": "code",
   "execution_count": 322,
   "metadata": {},
   "outputs": [],
   "source": [
    "from tabulate import tabulate\n",
    "\n",
    "def get_metrics(X, y):\n",
    "    X_train, X_test, y_train, y_test = train_test_split(X, y, test_size=0.2)\n",
    "    \n",
    "    rf = RandomForestClassifier(n_estimators=10, max_depth=7, min_samples_leaf=20, n_jobs=-1)\n",
    "    rf.fit(X_train, y_train)\n",
    "    \n",
    "    y_predict = rf.predict(X_test)\n",
    "    \n",
    "    print_info = [\n",
    "        ['Accuracy score:', rf.score(X_test, y_test)],\n",
    "        ['F1-score:', f1_score(y_test, y_predict, average='macro')],\n",
    "        ['Precision score:', precision_score(y_test, y_predict, average='macro')],\n",
    "        ['Recall score:', recall_score(y_test, y_predict, average='macro')],\n",
    "        ['Confusion matrix:', confusion_matrix(y_test, y_predict)]\n",
    "    ]\n",
    "    \n",
    "    print(tabulate(print_info, tablefmt='plain'))\n",
    "    \n",
    "    mx = plot_confusion_matrix(rf, X_test, y_test, cmap=plt.cm.Blues, normalize=None)\n",
    "    mx.ax_.set_title('Confusion matrix')\n",
    "    \n",
    "    plt.show()"
   ]
  },
  {
   "cell_type": "markdown",
   "metadata": {},
   "source": [
    "***Первое признаковое подмножество***"
   ]
  },
  {
   "cell_type": "code",
   "execution_count": 334,
   "metadata": {},
   "outputs": [
    {
     "name": "stdout",
     "output_type": "stream",
     "text": [
      "Accuracy score:    0.717948717948718\n",
      "F1-score:          0.4999437696806117\n",
      "Precision score:   0.4833333333333332\n",
      "Recall score:      0.5343915343915344\n",
      "Confusion matrix:  [[ 6  1  0  0  0  0]\n",
      "                    [ 0 11  0  0  0  0]\n",
      "                    [ 0  1  7  0  1  0]\n",
      "                    [ 0  0  2  0  0  0]\n",
      "                    [ 0  2  1  0  4  0]\n",
      "                    [ 3  0  0  0  0  0]]\n"
     ]
    },
    {
     "data": {
      "image/png": "[encoded data removed]",
      "text/plain": [
       "<Figure size 460.8x403.2 with 2 Axes>"
      ]
     },
     "metadata": {},
     "output_type": "display_data"
    }
   ],
   "source": [
    "get_metrics(X_reduced_1, y)"
   ]
  },
  {
   "cell_type": "markdown",
   "metadata": {},
   "source": [
    "***Второе признаковое подмножество***"
   ]
  },
  {
   "cell_type": "code",
   "execution_count": 347,
   "metadata": {},
   "outputs": [
    {
     "name": "stdout",
     "output_type": "stream",
     "text": [
      "Accuracy score:    0.5128205128205128\n",
      "F1-score:          0.26327312534209085\n",
      "Precision score:   0.23149350649350647\n",
      "Recall score:      0.336734693877551\n",
      "Confusion matrix:  [[5 4 1 0 0 0 0]\n",
      "                    [0 9 0 0 0 0 0]\n",
      "                    [0 1 6 0 0 0 0]\n",
      "                    [0 2 1 0 0 0 0]\n",
      "                    [0 1 2 0 0 0 0]\n",
      "                    [3 2 0 0 0 0 0]\n",
      "                    [0 1 1 0 0 0 0]]\n"
     ]
    },
    {
     "data": {
      "image/png": "[encoded data removed]",
      "text/plain": [
       "<Figure size 460.8x403.2 with 2 Axes>"
      ]
     },
     "metadata": {},
     "output_type": "display_data"
    }
   ],
   "source": [
    "get_metrics(X_reduced_2, y)"
   ]
  },
  {
   "cell_type": "markdown",
   "metadata": {},
   "source": [
    "Как видно из полученных данных, значения оценочных метрик получились низкими. Вероятно, на этом сказывается небольшое количество семплов, большое количество классов для такого количества семплов, ну и, наверное, сам факт того, что необходимо предсказывать религию по элементам флагов стран (:"
   ]
  },
  {
   "cell_type": "code",
   "execution_count": null,
   "metadata": {},
   "outputs": [],
   "source": []
  }
 ],
 "metadata": {
  "kernelspec": {
   "display_name": "Python 3",
   "language": "python",
   "name": "python3"
  },
  "language_info": {
   "codemirror_mode": {
    "name": "ipython",
    "version": 3
   },
   "file_extension": ".py",
   "mimetype": "text/x-python",
   "name": "python",
   "nbconvert_exporter": "python",
   "pygments_lexer": "ipython3",
   "version": "3.7.6"
  }
 },
 "nbformat": 4,
 "nbformat_minor": 4
}
