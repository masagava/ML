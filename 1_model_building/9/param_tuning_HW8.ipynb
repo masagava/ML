{
 "cells": [
  {
   "cell_type": "markdown",
   "metadata": {},
   "source": [
    " ## Домашнее задание\n",
    " \n",
    " **Подбор параметров**\n",
    " \n",
    "Взять boston house-prices database (sklearn.datasets.load_boston) и сделать то же самое для задачи регрессии (попробовать разные алгоритмы, поподбирать параметры, вывести итоговое качество)"
   ]
  },
  {
   "cell_type": "code",
   "execution_count": 55,
   "metadata": {
    "ExecuteTime": {
     "end_time": "2018-12-03T08:12:47.944076Z",
     "start_time": "2018-12-03T08:12:46.719605Z"
    }
   },
   "outputs": [],
   "source": [
    "from sklearn.datasets import load_boston\n",
    "from sklearn.model_selection import train_test_split, cross_val_score, GridSearchCV, RandomizedSearchCV\n",
    "from sklearn.tree import DecisionTreeRegressor\n",
    "from sklearn.ensemble import GradientBoostingRegressor\n",
    "from sklearn.metrics import mean_squared_error, mean_absolute_error\n",
    "import matplotlib.pyplot as plt\n",
    "import numpy as np\n",
    "import pandas as pd\n",
    "%matplotlib inline\n",
    "\n",
    "from jupyterthemes import jtplot\n",
    "jtplot.style()"
   ]
  },
  {
   "cell_type": "code",
   "execution_count": 21,
   "metadata": {
    "ExecuteTime": {
     "end_time": "2018-12-03T08:12:47.977584Z",
     "start_time": "2018-12-03T08:12:47.970330Z"
    }
   },
   "outputs": [],
   "source": [
    "data = load_boston()\n",
    "\n",
    "X = data.data\n",
    "y = data.target\n",
    "\n",
    "X_train, X_test, y_train, y_test = train_test_split(X, y, test_size=0.2)"
   ]
  },
  {
   "cell_type": "markdown",
   "metadata": {},
   "source": [
    "**Использование различных значений *random_state***"
   ]
  },
  {
   "cell_type": "code",
   "execution_count": 18,
   "metadata": {},
   "outputs": [
    {
     "name": "stdout",
     "output_type": "stream",
     "text": [
      "--------------------\n",
      "#0\n",
      "MSE for Decision Tree:     25.580\n",
      "MSE for Gradient Boosting: 11.061\n",
      "MAE for Decision Tree:     3.296\n",
      "MAE for Gradient Boosting: 2.333\n",
      "--------------------\n",
      "#1\n",
      "MSE for Decision Tree:     14.001\n",
      "MSE for Gradient Boosting: 5.287\n",
      "MAE for Decision Tree:     2.684\n",
      "MAE for Gradient Boosting: 1.700\n",
      "--------------------\n",
      "#2\n",
      "MSE for Decision Tree:     13.801\n",
      "MSE for Gradient Boosting: 9.926\n",
      "MAE for Decision Tree:     2.512\n",
      "MAE for Gradient Boosting: 2.243\n",
      "--------------------\n",
      "#3\n",
      "MSE for Decision Tree:     18.211\n",
      "MSE for Gradient Boosting: 11.541\n",
      "MAE for Decision Tree:     2.911\n",
      "MAE for Gradient Boosting: 2.116\n",
      "--------------------\n",
      "#4\n",
      "MSE for Decision Tree:     42.158\n",
      "MSE for Gradient Boosting: 9.879\n",
      "MAE for Decision Tree:     3.655\n",
      "MAE for Gradient Boosting: 2.257\n",
      "--------------------\n",
      "#5\n",
      "MSE for Decision Tree:     26.387\n",
      "MSE for Gradient Boosting: 14.250\n",
      "MAE for Decision Tree:     3.280\n",
      "MAE for Gradient Boosting: 2.469\n",
      "--------------------\n",
      "#6\n",
      "MSE for Decision Tree:     41.219\n",
      "MSE for Gradient Boosting: 9.477\n",
      "MAE for Decision Tree:     3.625\n",
      "MAE for Gradient Boosting: 2.219\n",
      "--------------------\n",
      "#7\n",
      "MSE for Decision Tree:     15.741\n",
      "MSE for Gradient Boosting: 9.404\n",
      "MAE for Decision Tree:     3.011\n",
      "MAE for Gradient Boosting: 2.212\n",
      "--------------------\n",
      "#8\n",
      "MSE for Decision Tree:     15.029\n",
      "MSE for Gradient Boosting: 7.200\n",
      "MAE for Decision Tree:     2.882\n",
      "MAE for Gradient Boosting: 1.919\n",
      "--------------------\n",
      "#9\n",
      "MSE for Decision Tree:     31.936\n",
      "MSE for Gradient Boosting: 8.931\n",
      "MAE for Decision Tree:     3.783\n",
      "MAE for Gradient Boosting: 2.157\n",
      "--------------------\n",
      "#10\n",
      "MSE for Decision Tree:     18.968\n",
      "MSE for Gradient Boosting: 8.245\n",
      "MAE for Decision Tree:     2.533\n",
      "MAE for Gradient Boosting: 1.959\n",
      "--------------------\n",
      "#11\n",
      "MSE for Decision Tree:     22.146\n",
      "MSE for Gradient Boosting: 13.876\n",
      "MAE for Decision Tree:     3.270\n",
      "MAE for Gradient Boosting: 2.306\n",
      "--------------------\n",
      "#12\n",
      "MSE for Decision Tree:     18.593\n",
      "MSE for Gradient Boosting: 8.394\n",
      "MAE for Decision Tree:     2.997\n",
      "MAE for Gradient Boosting: 2.029\n",
      "--------------------\n",
      "#13\n",
      "MSE for Decision Tree:     22.809\n",
      "MSE for Gradient Boosting: 13.733\n",
      "MAE for Decision Tree:     3.164\n",
      "MAE for Gradient Boosting: 2.298\n",
      "--------------------\n",
      "#14\n",
      "MSE for Decision Tree:     17.048\n",
      "MSE for Gradient Boosting: 6.047\n",
      "MAE for Decision Tree:     2.936\n",
      "MAE for Gradient Boosting: 1.903\n",
      "--------------------\n",
      "#15\n",
      "MSE for Decision Tree:     14.917\n",
      "MSE for Gradient Boosting: 5.860\n",
      "MAE for Decision Tree:     2.825\n",
      "MAE for Gradient Boosting: 1.826\n",
      "--------------------\n",
      "#16\n",
      "MSE for Decision Tree:     31.099\n",
      "MSE for Gradient Boosting: 15.285\n",
      "MAE for Decision Tree:     3.101\n",
      "MAE for Gradient Boosting: 2.412\n",
      "--------------------\n",
      "#17\n",
      "MSE for Decision Tree:     13.092\n",
      "MSE for Gradient Boosting: 6.690\n",
      "MAE for Decision Tree:     2.847\n",
      "MAE for Gradient Boosting: 2.037\n"
     ]
    }
   ],
   "source": [
    "for i in range(18):\n",
    "    rand_state = np.random.randint(419)\n",
    "    X_train, X_test, y_train, y_test = train_test_split(X, y, random_state=rand_state, test_size=0.2)\n",
    "    \n",
    "    model1 = DecisionTreeRegressor()\n",
    "    model1.fit(X_train, y_train)\n",
    "    y_pred1 = model1.predict(X_test)\n",
    "    \n",
    "    model2 = GradientBoostingRegressor()\n",
    "    model2.fit(X_train, y_train)\n",
    "    y_pred2 = model2.predict(X_test)\n",
    "    \n",
    "    mse1 = mean_squared_error(y_test, y_pred1)\n",
    "    mse2 = mean_squared_error(y_test, y_pred2)\n",
    "    \n",
    "    mae1 = mean_absolute_error(y_test, y_pred1)\n",
    "    mae2 = mean_absolute_error(y_test, y_pred2)\n",
    "    \n",
    "    print(20*'-' + f'\\n#{i}')\n",
    "    print(f'MSE for Decision Tree:     {mse1:.3f}')\n",
    "    print(f'MSE for Gradient Boosting: {mse2:.3f}')\n",
    "    print(f'MAE for Decision Tree:     {mae1:.3f}')\n",
    "    print(f'MAE for Gradient Boosting: {mae2:.3f}')\n"
   ]
  },
  {
   "cell_type": "markdown",
   "metadata": {},
   "source": [
    "**Нахождение оптимальной глубины для DecisionTree с использованием кросс-валидации**"
   ]
  },
  {
   "cell_type": "code",
   "execution_count": 39,
   "metadata": {},
   "outputs": [
    {
     "name": "stdout",
     "output_type": "stream",
     "text": [
      "max_depth: 2\tAverage MAE: 4.6178\n",
      "max_depth: 3\tAverage MAE: 4.3797\n",
      "max_depth: 4\tAverage MAE: 3.8586\n",
      "max_depth: 5\tAverage MAE: 3.7637\n",
      "max_depth: 6\tAverage MAE: 3.7343\n",
      "max_depth: 7\tAverage MAE: 3.6850\n",
      "max_depth: 8\tAverage MAE: 3.8338\n",
      "max_depth: 9\tAverage MAE: 3.8670\n",
      "max_depth: 10\tAverage MAE: 3.8243\n",
      "max_depth: 11\tAverage MAE: 4.0531\n",
      "max_depth: 12\tAverage MAE: 4.0265\n",
      "max_depth: 13\tAverage MAE: 3.9500\n",
      "max_depth: 14\tAverage MAE: 3.8125\n",
      "max_depth: 15\tAverage MAE: 3.8882\n",
      "max_depth: 16\tAverage MAE: 3.7423\n",
      "max_depth: 17\tAverage MAE: 3.9220\n",
      "max_depth: 18\tAverage MAE: 3.7554\n",
      "max_depth: 19\tAverage MAE: 3.9333\n",
      "max_depth: 20\tAverage MAE: 4.0159\n",
      "\n",
      "Best max_depth is 7 with average MAE = 3.6850\n"
     ]
    }
   ],
   "source": [
    "best = (0, 10000)\n",
    "for dep in range(2, 21):\n",
    "    model = DecisionTreeRegressor(max_depth=dep)\n",
    "    scores = cross_val_score(model, X, y, cv=10, scoring='neg_mean_absolute_error')\n",
    "    avg = np.absolute(np.mean(scores))\n",
    "    \n",
    "    print(f'max_depth: {dep}\\tAverage MAE: {avg:.4f}')\n",
    "    \n",
    "    if avg < best[1]:\n",
    "        best = (dep, avg)\n",
    "    \n",
    "print(f'\\nBest max_depth is {best[0]} with average MAE = {best[1]:.4f}')"
   ]
  },
  {
   "cell_type": "markdown",
   "metadata": {},
   "source": [
    "**Использование GridSearchCV**"
   ]
  },
  {
   "cell_type": "code",
   "execution_count": 40,
   "metadata": {},
   "outputs": [
    {
     "data": {
      "text/plain": [
       "GridSearchCV(cv=10, error_score=nan,\n",
       "             estimator=DecisionTreeRegressor(ccp_alpha=0.0, criterion='mse',\n",
       "                                             max_depth=None, max_features=None,\n",
       "                                             max_leaf_nodes=None,\n",
       "                                             min_impurity_decrease=0.0,\n",
       "                                             min_impurity_split=None,\n",
       "                                             min_samples_leaf=1,\n",
       "                                             min_samples_split=2,\n",
       "                                             min_weight_fraction_leaf=0.0,\n",
       "                                             presort='deprecated',\n",
       "                                             random_state=None,\n",
       "                                             splitter='best'),\n",
       "             iid='deprecated', n_jobs=None,\n",
       "             param_grid={'max_depth': [2, 3, 4, 5, 6, 7, 8, 9, 10, 11, 12, 13,\n",
       "                                       14, 15, 16, 17, 18, 19, 20]},\n",
       "             pre_dispatch='2*n_jobs', refit=True, return_train_score=False,\n",
       "             scoring='neg_mean_absolute_error', verbose=0)"
      ]
     },
     "execution_count": 40,
     "metadata": {},
     "output_type": "execute_result"
    }
   ],
   "source": [
    "depth = list(range(2, 21))\n",
    "\n",
    "param_grid = dict(max_depth=depth)\n",
    "\n",
    "grid = GridSearchCV(DecisionTreeRegressor(), param_grid=param_grid, cv=10, scoring='neg_mean_absolute_error')\n",
    "grid.fit(X, y)"
   ]
  },
  {
   "cell_type": "code",
   "execution_count": 43,
   "metadata": {},
   "outputs": [
    {
     "name": "stdout",
     "output_type": "stream",
     "text": [
      "[4.61776065 4.33165229 3.94042841 3.6894167  3.56597503 3.84319015\n",
      " 3.72239424 3.90705257 4.03614641 4.0410231  3.83383668 4.07969039\n",
      " 4.07419463 4.09029365 3.94207065 3.89321711 4.01283333 3.79648627\n",
      " 3.77558039]\n"
     ]
    }
   ],
   "source": [
    "mean_scores = np.absolute(grid.cv_results_['mean_test_score'])\n",
    "print(mean_scores)"
   ]
  },
  {
   "cell_type": "code",
   "execution_count": 44,
   "metadata": {},
   "outputs": [
    {
     "data": {
      "image/png": "[encoded data removed]",
      "text/plain": [
       "<Figure size 460.8x403.2 with 1 Axes>"
      ]
     },
     "metadata": {},
     "output_type": "display_data"
    }
   ],
   "source": [
    "plt.plot(depth, mean_scores)\n",
    "plt.xlabel('max_depth for DecisionTree')\n",
    "plt.ylabel('cross-validated MAE')\n",
    "plt.show()"
   ]
  },
  {
   "cell_type": "code",
   "execution_count": 63,
   "metadata": {},
   "outputs": [
    {
     "name": "stdout",
     "output_type": "stream",
     "text": [
      "Best MAE score for GridSearchCV is 3.5660 with best max_depth=6\n"
     ]
    }
   ],
   "source": [
    "print(f'Best MAE score for GridSearchCV is {np.absolute(grid.best_score_):.4f} with best {list(grid.best_params_.keys())[0]}={list(grid.best_params_.values())[0]}')"
   ]
  },
  {
   "cell_type": "markdown",
   "metadata": {},
   "source": [
    "**Использование *RandomizedSearchCV***"
   ]
  },
  {
   "cell_type": "code",
   "execution_count": 59,
   "metadata": {},
   "outputs": [
    {
     "data": {
      "text/plain": [
       "RandomizedSearchCV(cv=None, error_score=nan,\n",
       "                   estimator=DecisionTreeRegressor(ccp_alpha=0.0,\n",
       "                                                   criterion='mse',\n",
       "                                                   max_depth=None,\n",
       "                                                   max_features=None,\n",
       "                                                   max_leaf_nodes=None,\n",
       "                                                   min_impurity_decrease=0.0,\n",
       "                                                   min_impurity_split=None,\n",
       "                                                   min_samples_leaf=1,\n",
       "                                                   min_samples_split=2,\n",
       "                                                   min_weight_fraction_leaf=0.0,\n",
       "                                                   presort='deprecated',\n",
       "                                                   random_state=None,\n",
       "                                                   splitter='best'),\n",
       "                   iid='deprecated', n_iter=10, n_jobs=None,\n",
       "                   param_distributions={'criterion': ['mse', 'mae'],\n",
       "                                        'max_depth': [2, 3, 4, 5, 6, 7, 8, 9,\n",
       "                                                      10, 11, 12, 13, 14, 15,\n",
       "                                                      16, 17, 18, 19, 20]},\n",
       "                   pre_dispatch='2*n_jobs', random_state=None, refit=True,\n",
       "                   return_train_score=False, scoring='neg_mean_absolute_error',\n",
       "                   verbose=0)"
      ]
     },
     "execution_count": 59,
     "metadata": {},
     "output_type": "execute_result"
    }
   ],
   "source": [
    "param_grid = dict(criterion=['mse', 'mae'], max_depth=depth)\n",
    "\n",
    "rnd_search = RandomizedSearchCV(DecisionTreeRegressor(), param_distributions=param_grid, scoring='neg_mean_absolute_error')\n",
    "rnd_search.fit(X, y)"
   ]
  },
  {
   "cell_type": "code",
   "execution_count": 60,
   "metadata": {},
   "outputs": [
    {
     "data": {
      "text/plain": [
       "DecisionTreeRegressor(ccp_alpha=0.0, criterion='mae', max_depth=5,\n",
       "                      max_features=None, max_leaf_nodes=None,\n",
       "                      min_impurity_decrease=0.0, min_impurity_split=None,\n",
       "                      min_samples_leaf=1, min_samples_split=2,\n",
       "                      min_weight_fraction_leaf=0.0, presort='deprecated',\n",
       "                      random_state=None, splitter='best')"
      ]
     },
     "execution_count": 60,
     "metadata": {},
     "output_type": "execute_result"
    }
   ],
   "source": [
    "rnd_search.best_estimator_"
   ]
  },
  {
   "cell_type": "code",
   "execution_count": 61,
   "metadata": {},
   "outputs": [
    {
     "data": {
      "text/plain": [
       "{'max_depth': 5, 'criterion': 'mae'}"
      ]
     },
     "execution_count": 61,
     "metadata": {},
     "output_type": "execute_result"
    }
   ],
   "source": [
    "rnd_search.best_params_"
   ]
  },
  {
   "cell_type": "code",
   "execution_count": 62,
   "metadata": {},
   "outputs": [
    {
     "data": {
      "text/plain": [
       "-3.670995923121724"
      ]
     },
     "execution_count": 62,
     "metadata": {},
     "output_type": "execute_result"
    }
   ],
   "source": [
    "rnd_search.best_score_"
   ]
  },
  {
   "cell_type": "code",
   "execution_count": 65,
   "metadata": {},
   "outputs": [
    {
     "name": "stdout",
     "output_type": "stream",
     "text": [
      "Best MAE score for RandomSearchCV is 3.6710 with best max_depth=5\n"
     ]
    }
   ],
   "source": [
    "print(f'Best {rnd_search.best_params_[\"criterion\"].upper()} score for RandomSearchCV is {np.absolute(rnd_search.best_score_):.4f} with best {list(rnd_search.best_params_.keys())[0]}={rnd_search.best_params_[\"max_depth\"]}')"
   ]
  },
  {
   "cell_type": "code",
   "execution_count": null,
   "metadata": {},
   "outputs": [],
   "source": []
  }
 ],
 "metadata": {
  "kernelspec": {
   "display_name": "Python 3",
   "language": "python",
   "name": "python3"
  },
  "language_info": {
   "codemirror_mode": {
    "name": "ipython",
    "version": 3
   },
   "file_extension": ".py",
   "mimetype": "text/x-python",
   "name": "python",
   "nbconvert_exporter": "python",
   "pygments_lexer": "ipython3",
   "version": "3.7.6"
  },
  "varInspector": {
   "cols": {
    "lenName": 16,
    "lenType": 16,
    "lenVar": 40
   },
   "kernels_config": {
    "python": {
     "delete_cmd_postfix": "",
     "delete_cmd_prefix": "del ",
     "library": "var_list.py",
     "varRefreshCmd": "print(var_dic_list())"
    },
    "r": {
     "delete_cmd_postfix": ") ",
     "delete_cmd_prefix": "rm(",
     "library": "var_list.r",
     "varRefreshCmd": "cat(var_dic_list()) "
    }
   },
   "types_to_exclude": [
    "module",
    "function",
    "builtin_function_or_method",
    "instance",
    "_Feature"
   ],
   "window_display": false
  }
 },
 "nbformat": 4,
 "nbformat_minor": 4
}
