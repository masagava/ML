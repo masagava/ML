{
 "cells": [
  {
   "cell_type": "markdown",
   "metadata": {},
   "source": [
    "## Домашнее задание\n",
    "\n",
    "Для датасета *MovieLens_1M* получить RMSE на тестовой выборке 0.87 или ниже"
   ]
  },
  {
   "cell_type": "code",
   "execution_count": 1,
   "metadata": {},
   "outputs": [],
   "source": [
    "from surprise import KNNWithMeans, KNNBasic\n",
    "from surprise import Dataset\n",
    "from surprise import accuracy\n",
    "from surprise import Reader\n",
    "from surprise.model_selection import train_test_split\n",
    "\n",
    "import pandas as pd"
   ]
  },
  {
   "cell_type": "code",
   "execution_count": 25,
   "metadata": {},
   "outputs": [],
   "source": [
    "movies = pd.read_table('MovieLens_1M/movies.dat', sep='::', names=['movieId', 'title', 'genres'], engine='python')\n",
    "ratings = pd.read_table('MovieLens_1M/ratings.dat', sep='::', names=['userId', 'movieId', 'rating', 'timestamp'], engine='python')"
   ]
  },
  {
   "cell_type": "code",
   "execution_count": 21,
   "metadata": {},
   "outputs": [],
   "source": [
    "# movies = pd.read_csv('MovieLens/movies.csv')\n",
    "# ratings = pd.read_csv('MovieLens/ratings.csv')"
   ]
  },
  {
   "cell_type": "code",
   "execution_count": 26,
   "metadata": {},
   "outputs": [
    {
     "data": {
      "text/plain": [
       "(1000209, 6)"
      ]
     },
     "execution_count": 26,
     "metadata": {},
     "output_type": "execute_result"
    }
   ],
   "source": [
    "movies_with_ratings = movies.join(ratings.set_index('movieId'), on='movieId').reset_index(drop=True)\n",
    "movies_with_ratings.dropna(inplace=True)\n",
    "movies_with_ratings.shape"
   ]
  },
  {
   "cell_type": "code",
   "execution_count": 27,
   "metadata": {},
   "outputs": [],
   "source": [
    "dataset = pd.DataFrame({\n",
    "    'uid': movies_with_ratings.userId,\n",
    "    'iid': movies_with_ratings.title,\n",
    "    'rating': movies_with_ratings.rating\n",
    "})"
   ]
  },
  {
   "cell_type": "code",
   "execution_count": 28,
   "metadata": {},
   "outputs": [],
   "source": [
    "reader = Reader(rating_scale=(0.5, 5.0))\n",
    "data = Dataset.load_from_df(dataset, reader)"
   ]
  },
  {
   "cell_type": "code",
   "execution_count": 29,
   "metadata": {},
   "outputs": [],
   "source": [
    "trainset, testset = train_test_split(data, test_size=0.15)"
   ]
  },
  {
   "cell_type": "code",
   "execution_count": 8,
   "metadata": {},
   "outputs": [],
   "source": [
    "def calculate_rmse(i, ctr, user_based, trainset, testset):\n",
    "    print(f'#{ctr}: n_neighbors={i};\\t', end='')\n",
    "    algo = KNNWithMeans(k=i, sim_options={'name': 'pearson_baseline', 'user_based': user_based}, verbose=False)\n",
    "    algo.fit(trainset)\n",
    "    test_pred = algo.test(testset)\n",
    "    return accuracy.rmse(test_pred, verbose=True)\n",
    "\n",
    "def processing_data_analysis(n, approach, data):\n",
    "    for ctr, i in enumerate(range(0, n + 1, 5)):\n",
    "        trainset, testset = train_test_split(data, test_size=0.15)\n",
    "        rmse = calculate_rmse(i, ctr, approach == 'user_based', trainset, testset)\n",
    "        if rmse <= 0.87:\n",
    "            rmses[approach].append(rmse)"
   ]
  },
  {
   "cell_type": "code",
   "execution_count": 30,
   "metadata": {},
   "outputs": [
    {
     "name": "stdout",
     "output_type": "stream",
     "text": [
      "Processing user-based approach....\n",
      "#0: n_neighbors=0;\tRMSE: 1.0373\n",
      "#1: n_neighbors=5;\tRMSE: 0.9420\n",
      "#2: n_neighbors=10;\tRMSE: 0.9085\n",
      "#3: n_neighbors=15;\tRMSE: 0.8978\n",
      "#4: n_neighbors=20;\tRMSE: 0.8932\n",
      "#5: n_neighbors=25;\tRMSE: 0.8912\n",
      "#6: n_neighbors=30;\tRMSE: 0.8906\n",
      "#7: n_neighbors=35;\tRMSE: 0.8877\n",
      "#8: n_neighbors=40;\tRMSE: 0.8883\n",
      "#9: n_neighbors=45;\tRMSE: 0.8858\n",
      "#10: n_neighbors=50;\tRMSE: 0.8850\n",
      "Elapsed: 2074.0813\n",
      "----------------------------------------\n",
      "\n",
      "Processing item-based approach....\n",
      "#0: n_neighbors=0;\tRMSE: 0.9800\n",
      "#1: n_neighbors=5;\tRMSE: 0.8876\n",
      "#2: n_neighbors=10;\tRMSE: 0.8619\n",
      "#3: n_neighbors=15;\tRMSE: 0.8555\n",
      "#4: n_neighbors=20;\tRMSE: 0.8533\n",
      "#5: n_neighbors=25;\tRMSE: 0.8535\n",
      "#6: n_neighbors=30;\tRMSE: 0.8541\n",
      "#7: n_neighbors=35;\tRMSE: 0.8563\n",
      "#8: n_neighbors=40;\tRMSE: 0.8585\n",
      "#9: n_neighbors=45;\tRMSE: 0.8556\n",
      "#10: n_neighbors=50;\tRMSE: 0.8561\n",
      "Elapsed: 931.8066\n"
     ]
    }
   ],
   "source": [
    "from time import time\n",
    "\n",
    "rmses = dict({\n",
    "    'user_based': list(),\n",
    "    'item_based': list()\n",
    "})\n",
    "\n",
    "n = 51\n",
    "\n",
    "ptime = time()\n",
    "print('Processing user-based approach....')\n",
    "processing_data_analysis(n, 'user_based', data)\n",
    "print(f'Elapsed: {time()-ptime:.4f}')\n",
    "\n",
    "print(40*'-')\n",
    "      \n",
    "ptime = time()\n",
    "print('\\nProcessing item-based approach....')\n",
    "processing_data_analysis(n, 'item_based', data)\n",
    "print(f'Elapsed: {time()-ptime:.4f}')"
   ]
  },
  {
   "cell_type": "code",
   "execution_count": 31,
   "metadata": {},
   "outputs": [
    {
     "name": "stdout",
     "output_type": "stream",
     "text": [
      "Best RMSE for item_based approach is: 0.8533\n"
     ]
    }
   ],
   "source": [
    "for key, value in rmses.items():\n",
    "    if value:\n",
    "        print(f'Best RMSE for {key} approach is: {min(value):.4f}')"
   ]
  },
  {
   "cell_type": "code",
   "execution_count": null,
   "metadata": {},
   "outputs": [],
   "source": []
  }
 ],
 "metadata": {
  "kernelspec": {
   "display_name": "Python 3",
   "language": "python",
   "name": "python3"
  },
  "language_info": {
   "codemirror_mode": {
    "name": "ipython",
    "version": 3
   },
   "file_extension": ".py",
   "mimetype": "text/x-python",
   "name": "python",
   "nbconvert_exporter": "python",
   "pygments_lexer": "ipython3",
   "version": "3.7.6"
  }
 },
 "nbformat": 4,
 "nbformat_minor": 4
}
