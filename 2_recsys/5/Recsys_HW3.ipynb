{
 "cells": [
  {
   "cell_type": "markdown",
   "metadata": {},
   "source": [
    "## Домашнее задание\n",
    "\n",
    "Для датасета ml-latest реализовать гибридную систему с использованием известных подходов."
   ]
  },
  {
   "cell_type": "code",
   "execution_count": 2,
   "metadata": {},
   "outputs": [],
   "source": [
    "from surprise import KNNWithMeans, KNNBasic, SVD\n",
    "from surprise import Dataset\n",
    "from surprise import accuracy\n",
    "from surprise import Reader\n",
    "from surprise.model_selection import train_test_split\n",
    "\n",
    "from sklearn.model_selection import train_test_split as tts\n",
    "\n",
    "import pandas as pd"
   ]
  },
  {
   "cell_type": "code",
   "execution_count": 3,
   "metadata": {},
   "outputs": [],
   "source": [
    "movies = pd.read_csv('MovieLens/movies.csv')\n",
    "ratings = pd.read_csv('MovieLens/ratings.csv')"
   ]
  },
  {
   "cell_type": "markdown",
   "metadata": {},
   "source": [
    "К сожалению, на датасете ml-latest умерло ядро (от недостатка оперативной памяти), поэтому был использован старый датасет."
   ]
  },
  {
   "cell_type": "code",
   "execution_count": 4,
   "metadata": {},
   "outputs": [],
   "source": [
    "# %%time\n",
    "# movies = pd.read_csv('ml-latest/movies.csv')\n",
    "# ratings = pd.read_csv('ml-latest/ratings.csv')"
   ]
  },
  {
   "cell_type": "markdown",
   "metadata": {},
   "source": [
    "**Подготовка данных**"
   ]
  },
  {
   "cell_type": "code",
   "execution_count": 5,
   "metadata": {},
   "outputs": [
    {
     "data": {
      "text/plain": [
       "(100836, 6)"
      ]
     },
     "execution_count": 5,
     "metadata": {},
     "output_type": "execute_result"
    }
   ],
   "source": [
    "movies_with_ratings = movies.join(ratings.set_index('movieId'), on='movieId').reset_index(drop=True)\n",
    "movies_with_ratings.dropna(inplace=True)\n",
    "movies_with_ratings.shape"
   ]
  },
  {
   "cell_type": "code",
   "execution_count": 6,
   "metadata": {},
   "outputs": [],
   "source": [
    "del movies\n",
    "del ratings"
   ]
  },
  {
   "cell_type": "code",
   "execution_count": 7,
   "metadata": {},
   "outputs": [],
   "source": [
    "dataset = pd.DataFrame({\n",
    "    'uid': movies_with_ratings.userId,\n",
    "    'iid': movies_with_ratings.title,\n",
    "    'rating': movies_with_ratings.rating\n",
    "})"
   ]
  },
  {
   "cell_type": "markdown",
   "metadata": {},
   "source": [
    "Построим гибридную систему, в основе которой лежит блендинг: в качестве базовых моделей будем использовать *KNNWithMeans* и *KNNBasic*, в качестве метамодели - *SVD* и предскажем рейтинги фильмов. Разделим датасет на тестовую (для метамодели) и обучаемую выборки, а затем обучаемую - также на тестовую и обучаемую для базовых алгоритмов. Обучим базовые модели, а затем сделаем предсказания на тестовых выборках для метамодели и для базовых моделей. На основе полученных результатов сделаем новые обучаемую и тестовую выборки для метамодели, обучим ее и сделаем предсказания. Результат оценим с использованием *RMSE*."
   ]
  },
  {
   "cell_type": "code",
   "execution_count": 8,
   "metadata": {},
   "outputs": [],
   "source": [
    "X_train, X_test, y_train, y_test = tts(dataset[['uid', 'iid']], dataset[['rating']], test_size=0.2)"
   ]
  },
  {
   "cell_type": "code",
   "execution_count": 9,
   "metadata": {},
   "outputs": [],
   "source": [
    "train_data = pd.concat([X_train, y_train], names=['uid', 'iid', 'rating'], axis=1)\n",
    "test_data = pd.concat([X_test, y_test], names=['uid', 'iid', 'rating'], axis=1)"
   ]
  },
  {
   "cell_type": "code",
   "execution_count": 10,
   "metadata": {},
   "outputs": [],
   "source": [
    "reader = Reader(rating_scale=(0.5, 5.0))\n",
    "train = Dataset.load_from_df(train_data, reader)\n",
    "test = Dataset.load_from_df(test_data, reader)"
   ]
  },
  {
   "cell_type": "code",
   "execution_count": 11,
   "metadata": {},
   "outputs": [],
   "source": [
    "base_train, holdout_test = train_test_split(train, test_size=0.2)"
   ]
  },
  {
   "cell_type": "code",
   "execution_count": 12,
   "metadata": {},
   "outputs": [],
   "source": [
    "test = test.build_full_trainset().build_testset()"
   ]
  },
  {
   "cell_type": "markdown",
   "metadata": {},
   "source": [
    "Обучаем базовые модели"
   ]
  },
  {
   "cell_type": "code",
   "execution_count": 13,
   "metadata": {},
   "outputs": [
    {
     "name": "stdout",
     "output_type": "stream",
     "text": [
      "RMSE: 0.9039\n",
      "Wall time: 29.3 s\n"
     ]
    },
    {
     "data": {
      "text/plain": [
       "0.9039491755051058"
      ]
     },
     "execution_count": 13,
     "metadata": {},
     "output_type": "execute_result"
    }
   ],
   "source": [
    "%%time\n",
    "algo_1 = KNNWithMeans(k=20, sim_options={'name': 'pearson_baseline', 'user_based': False}, verbose=False)\n",
    "algo_1.fit(base_train)\n",
    "holdout_pred_1 = algo_1.test(holdout_test)\n",
    "test_pred_1 = algo_1.test(test)\n",
    "accuracy.rmse(test_pred_1, verbose=True)"
   ]
  },
  {
   "cell_type": "code",
   "execution_count": 14,
   "metadata": {},
   "outputs": [
    {
     "name": "stdout",
     "output_type": "stream",
     "text": [
      "RMSE: 0.9422\n",
      "Wall time: 26.7 s\n"
     ]
    },
    {
     "data": {
      "text/plain": [
       "0.9422419882005165"
      ]
     },
     "execution_count": 14,
     "metadata": {},
     "output_type": "execute_result"
    }
   ],
   "source": [
    "%%time\n",
    "algo_2 = KNNBasic(k=20, sim_options={'name': 'pearson_baseline', 'user_based': False}, verbose=False)\n",
    "algo_2.fit(base_train)\n",
    "holdout_pred_2 = algo_2.test(holdout_test)\n",
    "test_pred_2 = algo_2.test(test)\n",
    "accuracy.rmse(test_pred_2, verbose=True)"
   ]
  },
  {
   "cell_type": "markdown",
   "metadata": {},
   "source": [
    "Создаем обучаемую и тестовую выборки для метамодели"
   ]
  },
  {
   "cell_type": "code",
   "execution_count": 15,
   "metadata": {},
   "outputs": [],
   "source": [
    "holdout_test = pd.DataFrame(holdout_test, columns=['uid', 'iid', 'rating'])\n",
    "holdout_pred_1 = pd.DataFrame(holdout_pred_1)[['uid', 'iid', 'est']]\n",
    "holdout_pred_2 = pd.DataFrame(holdout_pred_2)[['uid', 'iid', 'est']]\n",
    "holdout_pred_1.columns = ['uid', 'iid', 'rating']\n",
    "holdout_pred_2.columns = ['uid', 'iid', 'rating']\n",
    "data_holdout = pd.concat([holdout_test, holdout_pred_1, holdout_pred_2])"
   ]
  },
  {
   "cell_type": "code",
   "execution_count": 16,
   "metadata": {},
   "outputs": [],
   "source": [
    "test = pd.DataFrame(test, columns=['uid', 'iid', 'rating'])\n",
    "test_pred_1 = pd.DataFrame(test_pred_1)[['uid', 'iid', 'est']]\n",
    "test_pred_2 = pd.DataFrame(test_pred_2)[['uid', 'iid', 'est']]\n",
    "test_pred_1.columns = ['uid', 'iid', 'rating']\n",
    "test_pred_2.columns = ['uid', 'iid', 'rating']\n",
    "data_test = pd.concat([test, test_pred_1, test_pred_2])"
   ]
  },
  {
   "cell_type": "code",
   "execution_count": 17,
   "metadata": {},
   "outputs": [],
   "source": [
    "data_holdout = Dataset.load_from_df(data_holdout, reader).build_full_trainset()"
   ]
  },
  {
   "cell_type": "code",
   "execution_count": 18,
   "metadata": {},
   "outputs": [],
   "source": [
    "data_test = Dataset.load_from_df(data_test, reader).build_full_trainset().build_testset()"
   ]
  },
  {
   "cell_type": "markdown",
   "metadata": {},
   "source": [
    "Обучаем метамодель"
   ]
  },
  {
   "cell_type": "code",
   "execution_count": 19,
   "metadata": {},
   "outputs": [
    {
     "name": "stdout",
     "output_type": "stream",
     "text": [
      "Wall time: 1.87 s\n"
     ]
    },
    {
     "data": {
      "text/plain": [
       "<surprise.prediction_algorithms.matrix_factorization.SVD at 0x21c00b69d48>"
      ]
     },
     "execution_count": 19,
     "metadata": {},
     "output_type": "execute_result"
    }
   ],
   "source": [
    "%%time\n",
    "algo_meta = SVD(n_factors=20, n_epochs=20)\n",
    "algo_meta.fit(data_holdout)"
   ]
  },
  {
   "cell_type": "code",
   "execution_count": 20,
   "metadata": {},
   "outputs": [
    {
     "name": "stdout",
     "output_type": "stream",
     "text": [
      "RMSE: 0.6385\n"
     ]
    },
    {
     "data": {
      "text/plain": [
       "0.6385089597003689"
      ]
     },
     "execution_count": 20,
     "metadata": {},
     "output_type": "execute_result"
    }
   ],
   "source": [
    "pred_meta = algo_meta.test(data_test)\n",
    "accuracy.rmse(pred_meta, verbose=True)"
   ]
  },
  {
   "cell_type": "code",
   "execution_count": 21,
   "metadata": {},
   "outputs": [
    {
     "data": {
      "text/plain": [
       "Prediction(uid=2.0, iid='Mortal Kombat (1995)', r_ui=None, est=3.3900725075812064, details={'was_impossible': False})"
      ]
     },
     "execution_count": 21,
     "metadata": {},
     "output_type": "execute_result"
    }
   ],
   "source": [
    "algo_meta.predict(uid=2.0, iid='Mortal Kombat (1995)')"
   ]
  },
  {
   "cell_type": "markdown",
   "metadata": {},
   "source": [
    "Как видим, RMSE получился намного меньше относительно оценок базовых моделей, что говорит о том, что использование блендинга позволяет улучшить качество предсказаний."
   ]
  }
 ],
 "metadata": {
  "kernelspec": {
   "display_name": "Python 3",
   "language": "python",
   "name": "python3"
  },
  "language_info": {
   "codemirror_mode": {
    "name": "ipython",
    "version": 3
   },
   "file_extension": ".py",
   "mimetype": "text/x-python",
   "name": "python",
   "nbconvert_exporter": "python",
   "pygments_lexer": "ipython3",
   "version": "3.7.6"
  }
 },
 "nbformat": 4,
 "nbformat_minor": 4
}
